{
 "cells": [
  {
   "cell_type": "code",
   "execution_count": null,
   "metadata": {},
   "outputs": [],
   "source": [
    "%matplotlib inline\n",
    "import matplotlib.pyplot as plt\n",
    "import seaborn as sns\n",
    "\n",
    "import pandas as pd\n",
    "\n",
    "sns.set_style('whitegrid')"
   ]
  },
  {
   "cell_type": "markdown",
   "metadata": {},
   "source": [
    "## Let's set a nice palette\n",
    "[Choosing a seaborn palette](https://seaborn.pydata.org/tutorial/color_palettes.html)."
   ]
  },
  {
   "cell_type": "code",
   "execution_count": null,
   "metadata": {},
   "outputs": [],
   "source": [
    "# First let's display a couple of options\n",
    "# our current palette\n",
    "sns.palplot(sns.color_palette())\n",
    "\n",
    "# and some other options\n",
    "sns.palplot(sns.color_palette('RdBu_r'))\n",
    "sns.palplot(sns.color_palette('husl'))\n",
    "sns.palplot(sns.color_palette('Spectral'))\n",
    "\n",
    "# I like husl\n",
    "sns.set_palette('husl')"
   ]
  },
  {
   "cell_type": "code",
   "execution_count": null,
   "metadata": {},
   "outputs": [],
   "source": [
    "in_file = '../data/inhibition_rois.csv'\n",
    "df = pd.read_csv(in_file)\n",
    "df.head()"
   ]
  },
  {
   "cell_type": "code",
   "execution_count": null,
   "metadata": {},
   "outputs": [],
   "source": [
    "# Let's divide this DataFrame based on modality\n",
    "behav_df = df[['subject_id', 'HIV', 'CB',\n",
    "               'n_correct_nogo', 'n_incorrect_nogo',\n",
    "               'n_nogo_aware', 'n_nogo_unaware']]\n",
    "betas_df = df[['subject_id', 'HIV', 'CB',\n",
    "               'mPFC_cor-err', 'PCC_cor-err', 'L_precuneus_cor-err',\n",
    "               'mPFC_cor', 'PCC_cor', 'L_precuneus_cor',\n",
    "               'mPFC_err', 'PCC_err', 'L_precuneus_err']]"
   ]
  },
  {
   "cell_type": "markdown",
   "metadata": {},
   "source": [
    "## Data wrangling\n",
    "Seaborn requires long-form DataFrames, even though most of us typically store our data in wide-form.\n",
    "\n",
    "We must wrangle our data into the right format! Get familiar with [DataFrame.melt()](https://pandas.pydata.org/pandas-docs/stable/reference/api/pandas.DataFrame.melt.html#pandas.DataFrame.melt).\n",
    "\n",
    "Appendix:\n",
    "- **Wide-form**: One row for every participant. Each variable/observation gets its own column.\n",
    "- **Long-form**: One row for every observation. Participants with multiple observations/variables get multiple rows."
   ]
  },
  {
   "cell_type": "code",
   "execution_count": null,
   "metadata": {},
   "outputs": [],
   "source": [
    "behav_df2 = behav_df.melt(\n",
    "    id_vars=['subject_id', 'HIV', 'CB'],\n",
    "    value_vars=['n_correct_nogo', 'n_incorrect_nogo', 'n_nogo_aware', 'n_nogo_unaware'],\n",
    "    var_name='behavioral metric',\n",
    "    value_name='count')\n",
    "behav_df2 = behav_df2.sort_values(by=['subject_id', 'behavioral metric'])\n",
    "\n",
    "behav_df2[['HIV', 'CB']]\n",
    "behav_df2['HIV-status'] = behav_df2['HIV'].map({1: 'HIV negative', 2: 'HIV positive'})\n",
    "behav_df2['CB-status'] = behav_df2['CB'].map({1: 'cannabis non-user', 2: 'cannabis user'})\n",
    "behav_df2['group'] = behav_df2['HIV-status'] + ', ' + behav_df2['CB-status']"
   ]
  },
  {
   "cell_type": "markdown",
   "metadata": {},
   "source": [
    "## Plotting categorical data\n",
    "Let's start with an easy one- a bar plot."
   ]
  },
  {
   "cell_type": "code",
   "execution_count": null,
   "metadata": {},
   "outputs": [],
   "source": [
    "fig, ax = plt.subplots(figsize=(16, 6))\n",
    "sns.barplot(x='behavioral metric', y='count', hue='group', data=behav_df2, ax=ax)\n",
    "fig.show()"
   ]
  },
  {
   "cell_type": "code",
   "execution_count": null,
   "metadata": {},
   "outputs": [],
   "source": [
    "# We can add in a strip plot (the individual points) by simply plotting another plot on the same axis object\n",
    "fig, ax = plt.subplots(figsize=(16, 6))\n",
    "sns.barplot(x='behavioral metric', y='count', hue='group', data=behav_df2, ax=ax)\n",
    "sns.stripplot(x='behavioral metric', y='count', hue='group', data=behav_df2, ax=ax,\n",
    "              jitter=True, dodge=True, linewidth=1, edgecolor='white')\n",
    "fig.show()"
   ]
  },
  {
   "cell_type": "markdown",
   "metadata": {},
   "source": [
    "## [#barbarplots](https://barbarplots.github.io)\n",
    "\n",
    "Bar plots (or even dynamite plots) assume normally-distributed data, which we aren't able to evaluate very easily from the figure itself.\n",
    "\n",
    "Let's plot our distributions, at minimum."
   ]
  },
  {
   "cell_type": "code",
   "execution_count": null,
   "metadata": {},
   "outputs": [],
   "source": [
    "fig, ax = plt.subplots(figsize=(16, 6))\n",
    "sns.boxenplot(x='behavioral metric', y='count', hue='group', data=behav_df2, ax=ax)\n",
    "sns.stripplot(x='behavioral metric', y='count', hue='group', data=behav_df2, ax=ax,\n",
    "              dodge=True, linewidth=1, edgecolor='white', alpha=0.4)\n",
    "\n",
    "# Remove the dots from the legend\n",
    "handles, labels = ax.get_legend_handles_labels()\n",
    "leg = ax.legend(handles=handles[:4], labels=labels[:4])\n",
    "\n",
    "fig.show()"
   ]
  },
  {
   "cell_type": "code",
   "execution_count": null,
   "metadata": {},
   "outputs": [],
   "source": [
    "# Regression plots take wide-form data.\n",
    "fig, ax = plt.subplots(figsize=(10, 8))\n",
    "sns.regplot(data=df, x='n_incorrect_nogo', y='PCC_err')\n",
    "fig.show()"
   ]
  },
  {
   "cell_type": "markdown",
   "metadata": {},
   "source": [
    "I want to see the distribution though.\n",
    "\n",
    "That's what [jointplots](https://seaborn.pydata.org/generated/seaborn.jointplot.html#seaborn.jointplot) are good for."
   ]
  },
  {
   "cell_type": "code",
   "execution_count": null,
   "metadata": {},
   "outputs": [],
   "source": [
    "jgrid = sns.jointplot(x='n_incorrect_nogo', y='PCC_err', data=df, kind='reg',\n",
    "                      height=6)\n",
    "fig = jgrid.fig\n",
    "fig.show()"
   ]
  },
  {
   "cell_type": "code",
   "execution_count": null,
   "metadata": {},
   "outputs": [],
   "source": [
    "# It's more complicated to have multiple groups in the same plot\n",
    "\n",
    "hiv_pos_df = df.loc[df['HIV'] == 2]\n",
    "hiv_neg_df = df.loc[df['HIV'] == 1]\n",
    "\n",
    "jgrid = sns.jointplot(x='n_incorrect_nogo', y='n_nogo_aware', \n",
    "                      data=hiv_pos_df, kind='reg',\n",
    "                      height=6, color='purple', label='HIV positive',\n",
    "                      marginal_kws=dict(hist=False, kde_kws={'shade': True}),\n",
    "                      xlim=(-100, 500), ylim=(-100, 500))\n",
    "fig = jgrid.fig\n",
    "ax_joint = jgrid.ax_joint\n",
    "ax_x = jgrid.ax_marg_x\n",
    "ax_y = jgrid.ax_marg_y\n",
    "\n",
    "# Add the HIV-negative central regression plot\n",
    "sns.regplot(x='n_incorrect_nogo', y='n_nogo_aware', data=hiv_neg_df, ax=ax_joint,\n",
    "            color='green', label='HIV negative')\n",
    "\n",
    "# And the HIV-negative histograms\n",
    "sns.distplot(hiv_neg_df['n_incorrect_nogo'], color='green',\n",
    "             hist=False, ax=ax_x, kde_kws={'shade': True})\n",
    "sns.distplot(hiv_neg_df['n_nogo_aware'], color='green',\n",
    "             hist=False, ax=ax_y, kde_kws={'shade': True},\n",
    "             vertical=True)\n",
    "\n",
    "# Clean up the axis labels\n",
    "ax_y.set_ylabel(None)\n",
    "ax_x.set_xlabel(None)\n",
    "ax_joint.set_xlim(-50, 250)\n",
    "ax_joint.set_ylim(-50, 250)\n",
    "ax_joint.tick_params(axis='both', which='major', labelsize=14)\n",
    "\n",
    "# Add a legend\n",
    "ax_joint.legend(fontsize=16)\n",
    "\n",
    "ax_joint.set_xlabel('# Incorrect No-Go Trials', fontsize=18)\n",
    "ax_joint.set_ylabel('# Error-Aware No-Go Trials', fontsize=18)\n",
    "fig.set_size_inches((8, 6))\n",
    "\n",
    "fig.tight_layout()\n",
    "fig.show()"
   ]
  },
  {
   "cell_type": "markdown",
   "metadata": {},
   "source": [
    "What about visualizing all pairs of variables in one figure, just to get it out of the way?"
   ]
  },
  {
   "cell_type": "code",
   "execution_count": null,
   "metadata": {},
   "outputs": [],
   "source": [
    "# Let's start by making a wide-form DataFrame with just the variables we want to compare\n",
    "betas_df = df[['mPFC_cor-err', 'PCC_cor-err', 'L_precuneus_cor-err']]\n",
    "\n",
    "g = sns.PairGrid(betas_df)\n",
    "fig, axes = g.fig, g.axes\n",
    "\n",
    "g = g.map_diag(sns.distplot)\n",
    "g = g.map_upper(sns.regplot)\n",
    "g = g.map_lower(sns.kdeplot)\n",
    "\n",
    "fig.set_size_inches((10, 10))\n",
    "fig.show()"
   ]
  },
  {
   "cell_type": "markdown",
   "metadata": {},
   "source": [
    "### The package [ptitprince](https://github.com/pog87/PtitPrince) includes raincloud plots"
   ]
  },
  {
   "cell_type": "code",
   "execution_count": null,
   "metadata": {},
   "outputs": [],
   "source": [
    "import ptitprince as pt"
   ]
  },
  {
   "cell_type": "code",
   "execution_count": null,
   "metadata": {},
   "outputs": [],
   "source": [
    "# let's just look at one behav metric across groups\n",
    "nogo_inc_df = behav_df2.loc[behav_df2['behavioral metric'] == 'n_incorrect_nogo']\n",
    "\n",
    "# and make the raincloud plot\n",
    "fig, ax = plt.subplots(figsize=(16, 6))\n",
    "pt.RainCloud(data=nogo_inc_df, x='group', y='count',\n",
    "             ax=ax, orient='h', palette=sns.color_palette())\n",
    "fig.show()"
   ]
  }
 ],
 "metadata": {
  "kernelspec": {
   "display_name": "Python [conda env:python3]",
   "language": "python",
   "name": "conda-env-python3-py"
  },
  "language_info": {
   "codemirror_mode": {
    "name": "ipython",
    "version": 3
   },
   "file_extension": ".py",
   "mimetype": "text/x-python",
   "name": "python",
   "nbconvert_exporter": "python",
   "pygments_lexer": "ipython3",
   "version": "3.6.4"
  }
 },
 "nbformat": 4,
 "nbformat_minor": 2
}
